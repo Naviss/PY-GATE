{
 "cells": [
  {
   "cell_type": "code",
   "execution_count": 7,
   "metadata": {},
   "outputs": [],
   "source": [
    "import uproot"
   ]
  },
  {
   "cell_type": "code",
   "execution_count": 22,
   "metadata": {},
   "outputs": [
    {
     "name": "stdout",
     "output_type": "stream",
     "text": [
      "['Hits;1', 'Singles;1']\n",
      "['PostPosition_X', 'PostPosition_Y', 'PostPosition_Z', 'TotalEnergyDeposit', 'PreStepUniqueVolumeID', 'GlobalTime']\n",
      "[]\n"
     ]
    }
   ],
   "source": [
    "file = uproot.open(\"./test.root\")\n",
    "print(file.keys())\n",
    "print(file[\"Hits\"].keys())\n",
    "print(file[\"Hits\"][\"TotalEnergyDeposit\"].values())"
   ]
  },
  {
   "cell_type": "code",
   "execution_count": null,
   "metadata": {},
   "outputs": [],
   "source": []
  }
 ],
 "metadata": {
  "kernelspec": {
   "display_name": "PY-GATE-_E96Dxod",
   "language": "python",
   "name": "python3"
  },
  "language_info": {
   "codemirror_mode": {
    "name": "ipython",
    "version": 3
   },
   "file_extension": ".py",
   "mimetype": "text/x-python",
   "name": "python",
   "nbconvert_exporter": "python",
   "pygments_lexer": "ipython3",
   "version": "3.11.6"
  }
 },
 "nbformat": 4,
 "nbformat_minor": 2
}
